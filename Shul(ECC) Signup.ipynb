{
 "cells": [
  {
   "cell_type": "code",
   "execution_count": 172,
   "id": "fantastic-draft",
   "metadata": {},
   "outputs": [],
   "source": [
    "import pandas as pd\n",
    "import pandasql as ps\n",
    "import numpy as np\n",
    "import xlsxwriter"
   ]
  },
  {
   "cell_type": "code",
   "execution_count": 98,
   "id": "apparent-celebrity",
   "metadata": {},
   "outputs": [
    {
     "data": {
      "text/html": [
       "<div>\n",
       "<style scoped>\n",
       "    .dataframe tbody tr th:only-of-type {\n",
       "        vertical-align: middle;\n",
       "    }\n",
       "\n",
       "    .dataframe tbody tr th {\n",
       "        vertical-align: top;\n",
       "    }\n",
       "\n",
       "    .dataframe thead th {\n",
       "        text-align: right;\n",
       "    }\n",
       "</style>\n",
       "<table border=\"1\" class=\"dataframe\">\n",
       "  <thead>\n",
       "    <tr style=\"text-align: right;\">\n",
       "      <th></th>\n",
       "      <th>Sign Up</th>\n",
       "      <th>Start Date/Time (mm/dd/yyyy)</th>\n",
       "      <th>Qty</th>\n",
       "      <th>Item</th>\n",
       "      <th>First Name</th>\n",
       "      <th>Last Name</th>\n",
       "      <th>Number Sitting Together (besides yourself)</th>\n",
       "      <th>Unnamed: 7</th>\n",
       "    </tr>\n",
       "  </thead>\n",
       "  <tbody>\n",
       "    <tr>\n",
       "      <th>0</th>\n",
       "      <td>Men (Week of April 16th)</td>\n",
       "      <td>04/16/2021</td>\n",
       "      <td>1.0</td>\n",
       "      <td>AM 5:50/6:00 Shacharit - MS</td>\n",
       "      <td>Gabbai</td>\n",
       "      <td>YIWH</td>\n",
       "      <td>NaN</td>\n",
       "      <td></td>\n",
       "    </tr>\n",
       "    <tr>\n",
       "      <th>1</th>\n",
       "      <td>Men (Week of April 16th)</td>\n",
       "      <td>04/16/2021</td>\n",
       "      <td>1.0</td>\n",
       "      <td>AM 5:50/6:00 Shacharit - MS</td>\n",
       "      <td>Richard</td>\n",
       "      <td>Feldman</td>\n",
       "      <td>NaN</td>\n",
       "      <td></td>\n",
       "    </tr>\n",
       "    <tr>\n",
       "      <th>2</th>\n",
       "      <td>Men (Week of April 16th)</td>\n",
       "      <td>04/16/2021</td>\n",
       "      <td>1.0</td>\n",
       "      <td>AM 5:50/6:00 Shacharit - MS</td>\n",
       "      <td>Brian</td>\n",
       "      <td>Rosen</td>\n",
       "      <td>NaN</td>\n",
       "      <td></td>\n",
       "    </tr>\n",
       "    <tr>\n",
       "      <th>3</th>\n",
       "      <td>Men (Week of April 16th)</td>\n",
       "      <td>04/16/2021</td>\n",
       "      <td>1.0</td>\n",
       "      <td>AM 5:50/6:00 Shacharit - MS</td>\n",
       "      <td>Ari Gottlieb</td>\n",
       "      <td>Gottlieb</td>\n",
       "      <td>NaN</td>\n",
       "      <td></td>\n",
       "    </tr>\n",
       "    <tr>\n",
       "      <th>4</th>\n",
       "      <td>Men (Week of April 16th)</td>\n",
       "      <td>04/16/2021</td>\n",
       "      <td>1.0</td>\n",
       "      <td>AM 5:50/6:00 Shacharit - MS</td>\n",
       "      <td>sholem</td>\n",
       "      <td>kATZ</td>\n",
       "      <td>0.0</td>\n",
       "      <td></td>\n",
       "    </tr>\n",
       "  </tbody>\n",
       "</table>\n",
       "</div>"
      ],
      "text/plain": [
       "                    Sign Up Start Date/Time (mm/dd/yyyy)  Qty  \\\n",
       "0  Men (Week of April 16th)                   04/16/2021  1.0   \n",
       "1  Men (Week of April 16th)                   04/16/2021  1.0   \n",
       "2  Men (Week of April 16th)                   04/16/2021  1.0   \n",
       "3  Men (Week of April 16th)                   04/16/2021  1.0   \n",
       "4  Men (Week of April 16th)                   04/16/2021  1.0   \n",
       "\n",
       "                          Item    First Name Last Name  \\\n",
       "0  AM 5:50/6:00 Shacharit - MS        Gabbai      YIWH   \n",
       "1  AM 5:50/6:00 Shacharit - MS       Richard   Feldman   \n",
       "2  AM 5:50/6:00 Shacharit - MS         Brian     Rosen   \n",
       "3  AM 5:50/6:00 Shacharit - MS  Ari Gottlieb  Gottlieb   \n",
       "4  AM 5:50/6:00 Shacharit - MS        sholem      kATZ   \n",
       "\n",
       "   Number Sitting Together (besides yourself) Unnamed: 7  \n",
       "0                                         NaN             \n",
       "1                                         NaN             \n",
       "2                                         NaN             \n",
       "3                                         NaN             \n",
       "4                                         0.0             "
      ]
     },
     "execution_count": 98,
     "metadata": {},
     "output_type": "execute_result"
    }
   ],
   "source": [
    "df = pd.read_csv(\"Signups-Fri-416-5pm.csv\")\n",
    "df.head()"
   ]
  },
  {
   "cell_type": "code",
   "execution_count": 99,
   "id": "chicken-variety",
   "metadata": {},
   "outputs": [
    {
     "data": {
      "text/plain": [
       "Sign Up                                       False\n",
       "Start Date/Time (mm/dd/yyyy)                   True\n",
       "Qty                                            True\n",
       "Item                                           True\n",
       "First Name                                     True\n",
       "Last Name                                      True\n",
       "Number Sitting Together (besides yourself)     True\n",
       "Unnamed: 7                                     True\n",
       "dtype: bool"
      ]
     },
     "execution_count": 99,
     "metadata": {},
     "output_type": "execute_result"
    }
   ],
   "source": [
    "df.isnull().any()"
   ]
  },
  {
   "cell_type": "code",
   "execution_count": 100,
   "id": "parliamentary-tablet",
   "metadata": {},
   "outputs": [],
   "source": [
    "df = df[df['First Name'].notna()]"
   ]
  },
  {
   "cell_type": "code",
   "execution_count": 181,
   "id": "steady-sally",
   "metadata": {},
   "outputs": [],
   "source": [
    "df = df[df['Last Name'].notna()]"
   ]
  },
  {
   "cell_type": "code",
   "execution_count": 88,
   "id": "earlier-camcorder",
   "metadata": {
    "scrolled": true
   },
   "outputs": [
    {
     "data": {
      "text/plain": [
       "Sign Up                                       False\n",
       "Start Date/Time (mm/dd/yyyy)                  False\n",
       "Qty                                           False\n",
       "Item                                          False\n",
       "First Name                                    False\n",
       "Last Name                                     False\n",
       "Number Sitting Together (besides yourself)     True\n",
       "Unnamed: 7                                    False\n",
       "dtype: bool"
      ]
     },
     "execution_count": 88,
     "metadata": {},
     "output_type": "execute_result"
    }
   ],
   "source": [
    "df.isnull().any()"
   ]
  },
  {
   "cell_type": "code",
   "execution_count": 101,
   "id": "wicked-toronto",
   "metadata": {
    "scrolled": false
   },
   "outputs": [],
   "source": [
    "df['Number Sitting Together (besides yourself)'] = df['Number Sitting Together (besides yourself)'].fillna(0)"
   ]
  },
  {
   "cell_type": "code",
   "execution_count": 90,
   "id": "hollywood-wages",
   "metadata": {},
   "outputs": [
    {
     "data": {
      "text/plain": [
       "Sign Up                                       False\n",
       "Start Date/Time (mm/dd/yyyy)                  False\n",
       "Qty                                           False\n",
       "Item                                          False\n",
       "First Name                                    False\n",
       "Last Name                                     False\n",
       "Number Sitting Together (besides yourself)    False\n",
       "Unnamed: 7                                    False\n",
       "dtype: bool"
      ]
     },
     "execution_count": 90,
     "metadata": {},
     "output_type": "execute_result"
    }
   ],
   "source": [
    "df.isnull().any()"
   ]
  },
  {
   "cell_type": "code",
   "execution_count": 91,
   "id": "local-tradition",
   "metadata": {
    "scrolled": true
   },
   "outputs": [
    {
     "data": {
      "text/html": [
       "<div>\n",
       "<style scoped>\n",
       "    .dataframe tbody tr th:only-of-type {\n",
       "        vertical-align: middle;\n",
       "    }\n",
       "\n",
       "    .dataframe tbody tr th {\n",
       "        vertical-align: top;\n",
       "    }\n",
       "\n",
       "    .dataframe thead th {\n",
       "        text-align: right;\n",
       "    }\n",
       "</style>\n",
       "<table border=\"1\" class=\"dataframe\">\n",
       "  <thead>\n",
       "    <tr style=\"text-align: right;\">\n",
       "      <th></th>\n",
       "      <th>Sign Up</th>\n",
       "      <th>Start Date/Time (mm/dd/yyyy)</th>\n",
       "      <th>Qty</th>\n",
       "      <th>Item</th>\n",
       "      <th>First Name</th>\n",
       "      <th>Last Name</th>\n",
       "      <th>Number Sitting Together (besides yourself)</th>\n",
       "      <th>Unnamed: 7</th>\n",
       "    </tr>\n",
       "  </thead>\n",
       "  <tbody>\n",
       "    <tr>\n",
       "      <th>0</th>\n",
       "      <td>Men (Week of April 16th)</td>\n",
       "      <td>04/16/2021</td>\n",
       "      <td>1.0</td>\n",
       "      <td>AM 5:50/6:00 Shacharit - MS</td>\n",
       "      <td>Gabbai</td>\n",
       "      <td>YIWH</td>\n",
       "      <td>0.0</td>\n",
       "      <td></td>\n",
       "    </tr>\n",
       "    <tr>\n",
       "      <th>1</th>\n",
       "      <td>Men (Week of April 16th)</td>\n",
       "      <td>04/16/2021</td>\n",
       "      <td>1.0</td>\n",
       "      <td>AM 5:50/6:00 Shacharit - MS</td>\n",
       "      <td>Richard</td>\n",
       "      <td>Feldman</td>\n",
       "      <td>0.0</td>\n",
       "      <td></td>\n",
       "    </tr>\n",
       "    <tr>\n",
       "      <th>2</th>\n",
       "      <td>Men (Week of April 16th)</td>\n",
       "      <td>04/16/2021</td>\n",
       "      <td>1.0</td>\n",
       "      <td>AM 5:50/6:00 Shacharit - MS</td>\n",
       "      <td>Brian</td>\n",
       "      <td>Rosen</td>\n",
       "      <td>0.0</td>\n",
       "      <td></td>\n",
       "    </tr>\n",
       "    <tr>\n",
       "      <th>3</th>\n",
       "      <td>Men (Week of April 16th)</td>\n",
       "      <td>04/16/2021</td>\n",
       "      <td>1.0</td>\n",
       "      <td>AM 5:50/6:00 Shacharit - MS</td>\n",
       "      <td>Ari Gottlieb</td>\n",
       "      <td>Gottlieb</td>\n",
       "      <td>0.0</td>\n",
       "      <td></td>\n",
       "    </tr>\n",
       "    <tr>\n",
       "      <th>4</th>\n",
       "      <td>Men (Week of April 16th)</td>\n",
       "      <td>04/16/2021</td>\n",
       "      <td>1.0</td>\n",
       "      <td>AM 5:50/6:00 Shacharit - MS</td>\n",
       "      <td>sholem</td>\n",
       "      <td>kATZ</td>\n",
       "      <td>0.0</td>\n",
       "      <td></td>\n",
       "    </tr>\n",
       "  </tbody>\n",
       "</table>\n",
       "</div>"
      ],
      "text/plain": [
       "                    Sign Up Start Date/Time (mm/dd/yyyy)  Qty  \\\n",
       "0  Men (Week of April 16th)                   04/16/2021  1.0   \n",
       "1  Men (Week of April 16th)                   04/16/2021  1.0   \n",
       "2  Men (Week of April 16th)                   04/16/2021  1.0   \n",
       "3  Men (Week of April 16th)                   04/16/2021  1.0   \n",
       "4  Men (Week of April 16th)                   04/16/2021  1.0   \n",
       "\n",
       "                          Item    First Name Last Name  \\\n",
       "0  AM 5:50/6:00 Shacharit - MS        Gabbai      YIWH   \n",
       "1  AM 5:50/6:00 Shacharit - MS       Richard   Feldman   \n",
       "2  AM 5:50/6:00 Shacharit - MS         Brian     Rosen   \n",
       "3  AM 5:50/6:00 Shacharit - MS  Ari Gottlieb  Gottlieb   \n",
       "4  AM 5:50/6:00 Shacharit - MS        sholem      kATZ   \n",
       "\n",
       "   Number Sitting Together (besides yourself) Unnamed: 7  \n",
       "0                                         0.0             \n",
       "1                                         0.0             \n",
       "2                                         0.0             \n",
       "3                                         0.0             \n",
       "4                                         0.0             "
      ]
     },
     "execution_count": 91,
     "metadata": {},
     "output_type": "execute_result"
    }
   ],
   "source": [
    "df.head()"
   ]
  },
  {
   "cell_type": "code",
   "execution_count": 102,
   "id": "decent-metallic",
   "metadata": {},
   "outputs": [],
   "source": [
    "# Get only ECC shacarit and kabalat shabbat (kab).\n",
    "df = ps.sqldf(\"SELECT * FROM  df WHERE df.Item LIKE '%ECC%' AND (df.Item LIKE '%Shacharit%' OR df.Item LIKE '%Kab%')\")"
   ]
  },
  {
   "cell_type": "code",
   "execution_count": 103,
   "id": "liberal-template",
   "metadata": {
    "scrolled": true
   },
   "outputs": [
    {
     "data": {
      "text/html": [
       "<div>\n",
       "<style scoped>\n",
       "    .dataframe tbody tr th:only-of-type {\n",
       "        vertical-align: middle;\n",
       "    }\n",
       "\n",
       "    .dataframe tbody tr th {\n",
       "        vertical-align: top;\n",
       "    }\n",
       "\n",
       "    .dataframe thead th {\n",
       "        text-align: right;\n",
       "    }\n",
       "</style>\n",
       "<table border=\"1\" class=\"dataframe\">\n",
       "  <thead>\n",
       "    <tr style=\"text-align: right;\">\n",
       "      <th></th>\n",
       "      <th>Sign Up</th>\n",
       "      <th>Start Date/Time (mm/dd/yyyy)</th>\n",
       "      <th>Qty</th>\n",
       "      <th>Item</th>\n",
       "      <th>First Name</th>\n",
       "      <th>Last Name</th>\n",
       "      <th>Number Sitting Together (besides yourself)</th>\n",
       "      <th>Unnamed: 7</th>\n",
       "    </tr>\n",
       "  </thead>\n",
       "  <tbody>\n",
       "    <tr>\n",
       "      <th>0</th>\n",
       "      <td>Men (Week of April 16th)</td>\n",
       "      <td>04/16/2021</td>\n",
       "      <td>1.0</td>\n",
       "      <td>PM 7:00 Mincha/Kab. Shabbat - ECC</td>\n",
       "      <td>Joshua</td>\n",
       "      <td>Goldenberg</td>\n",
       "      <td>0.0</td>\n",
       "      <td></td>\n",
       "    </tr>\n",
       "    <tr>\n",
       "      <th>1</th>\n",
       "      <td>Men (Week of April 16th)</td>\n",
       "      <td>04/16/2021</td>\n",
       "      <td>1.0</td>\n",
       "      <td>PM 7:00 Mincha/Kab. Shabbat - ECC</td>\n",
       "      <td>alan</td>\n",
       "      <td>wengrofsky</td>\n",
       "      <td>2.0</td>\n",
       "      <td></td>\n",
       "    </tr>\n",
       "    <tr>\n",
       "      <th>2</th>\n",
       "      <td>Men (Week of April 16th)</td>\n",
       "      <td>04/16/2021</td>\n",
       "      <td>1.0</td>\n",
       "      <td>PM 7:00 Mincha/Kab. Shabbat - ECC</td>\n",
       "      <td>Michael</td>\n",
       "      <td>Turk</td>\n",
       "      <td>0.0</td>\n",
       "      <td></td>\n",
       "    </tr>\n",
       "    <tr>\n",
       "      <th>3</th>\n",
       "      <td>Men (Week of April 16th)</td>\n",
       "      <td>04/16/2021</td>\n",
       "      <td>1.0</td>\n",
       "      <td>PM 7:00 Mincha/Kab. Shabbat - ECC</td>\n",
       "      <td>Mark</td>\n",
       "      <td>Feld</td>\n",
       "      <td>2.0</td>\n",
       "      <td></td>\n",
       "    </tr>\n",
       "    <tr>\n",
       "      <th>4</th>\n",
       "      <td>Men (Week of April 16th)</td>\n",
       "      <td>04/16/2021</td>\n",
       "      <td>1.0</td>\n",
       "      <td>PM 7:00 Mincha/Kab. Shabbat - ECC</td>\n",
       "      <td>Cary</td>\n",
       "      <td>Schwechter</td>\n",
       "      <td>1.0</td>\n",
       "      <td></td>\n",
       "    </tr>\n",
       "  </tbody>\n",
       "</table>\n",
       "</div>"
      ],
      "text/plain": [
       "                    Sign Up Start Date/Time (mm/dd/yyyy)  Qty  \\\n",
       "0  Men (Week of April 16th)                   04/16/2021  1.0   \n",
       "1  Men (Week of April 16th)                   04/16/2021  1.0   \n",
       "2  Men (Week of April 16th)                   04/16/2021  1.0   \n",
       "3  Men (Week of April 16th)                   04/16/2021  1.0   \n",
       "4  Men (Week of April 16th)                   04/16/2021  1.0   \n",
       "\n",
       "                                Item First Name   Last Name  \\\n",
       "0  PM 7:00 Mincha/Kab. Shabbat - ECC     Joshua  Goldenberg   \n",
       "1  PM 7:00 Mincha/Kab. Shabbat - ECC       alan  wengrofsky   \n",
       "2  PM 7:00 Mincha/Kab. Shabbat - ECC    Michael        Turk   \n",
       "3  PM 7:00 Mincha/Kab. Shabbat - ECC       Mark        Feld   \n",
       "4  PM 7:00 Mincha/Kab. Shabbat - ECC       Cary  Schwechter   \n",
       "\n",
       "   Number Sitting Together (besides yourself) Unnamed: 7  \n",
       "0                                         0.0             \n",
       "1                                         2.0             \n",
       "2                                         0.0             \n",
       "3                                         2.0             \n",
       "4                                         1.0             "
      ]
     },
     "execution_count": 103,
     "metadata": {},
     "output_type": "execute_result"
    }
   ],
   "source": [
    "df.head()"
   ]
  },
  {
   "cell_type": "code",
   "execution_count": 104,
   "id": "general-tutorial",
   "metadata": {},
   "outputs": [],
   "source": [
    "df[\"Display Name\"] = df[\"First Name\"] + \" \" + df[\"Last Name\"]"
   ]
  },
  {
   "cell_type": "code",
   "execution_count": 79,
   "id": "expensive-bradford",
   "metadata": {
    "scrolled": true
   },
   "outputs": [
    {
     "data": {
      "text/html": [
       "<div>\n",
       "<style scoped>\n",
       "    .dataframe tbody tr th:only-of-type {\n",
       "        vertical-align: middle;\n",
       "    }\n",
       "\n",
       "    .dataframe tbody tr th {\n",
       "        vertical-align: top;\n",
       "    }\n",
       "\n",
       "    .dataframe thead th {\n",
       "        text-align: right;\n",
       "    }\n",
       "</style>\n",
       "<table border=\"1\" class=\"dataframe\">\n",
       "  <thead>\n",
       "    <tr style=\"text-align: right;\">\n",
       "      <th></th>\n",
       "      <th>Sign Up</th>\n",
       "      <th>Start Date/Time (mm/dd/yyyy)</th>\n",
       "      <th>Qty</th>\n",
       "      <th>Item</th>\n",
       "      <th>First Name</th>\n",
       "      <th>Last Name</th>\n",
       "      <th>Number Sitting Together (besides yourself)</th>\n",
       "      <th>Unnamed: 7</th>\n",
       "      <th>Display Name</th>\n",
       "    </tr>\n",
       "  </thead>\n",
       "  <tbody>\n",
       "    <tr>\n",
       "      <th>0</th>\n",
       "      <td>Men (Week of April 16th)</td>\n",
       "      <td>04/17/2021</td>\n",
       "      <td>1.0</td>\n",
       "      <td>AM 9:00 Shacharit - ECC</td>\n",
       "      <td>Asher</td>\n",
       "      <td>Dworetsky</td>\n",
       "      <td>2.0</td>\n",
       "      <td></td>\n",
       "      <td>Asher Dworetsky</td>\n",
       "    </tr>\n",
       "    <tr>\n",
       "      <th>1</th>\n",
       "      <td>Men (Week of April 16th)</td>\n",
       "      <td>04/17/2021</td>\n",
       "      <td>1.0</td>\n",
       "      <td>AM 9:00 Shacharit - ECC</td>\n",
       "      <td>David</td>\n",
       "      <td>Nenner</td>\n",
       "      <td>1.0</td>\n",
       "      <td></td>\n",
       "      <td>David Nenner</td>\n",
       "    </tr>\n",
       "    <tr>\n",
       "      <th>2</th>\n",
       "      <td>Men (Week of April 16th)</td>\n",
       "      <td>04/17/2021</td>\n",
       "      <td>1.0</td>\n",
       "      <td>AM 9:00 Shacharit - ECC</td>\n",
       "      <td>Mitch</td>\n",
       "      <td>Marcus</td>\n",
       "      <td>0.0</td>\n",
       "      <td></td>\n",
       "      <td>Mitch Marcus</td>\n",
       "    </tr>\n",
       "    <tr>\n",
       "      <th>3</th>\n",
       "      <td>Men (Week of April 16th)</td>\n",
       "      <td>04/17/2021</td>\n",
       "      <td>1.0</td>\n",
       "      <td>AM 9:00 Shacharit - ECC</td>\n",
       "      <td>Cary</td>\n",
       "      <td>Schwechter</td>\n",
       "      <td>1.0</td>\n",
       "      <td></td>\n",
       "      <td>Cary Schwechter</td>\n",
       "    </tr>\n",
       "    <tr>\n",
       "      <th>4</th>\n",
       "      <td>Men (Week of April 16th)</td>\n",
       "      <td>04/17/2021</td>\n",
       "      <td>1.0</td>\n",
       "      <td>AM 9:00 Shacharit - ECC</td>\n",
       "      <td>Elie</td>\n",
       "      <td>Steinberg</td>\n",
       "      <td>0.0</td>\n",
       "      <td></td>\n",
       "      <td>Elie Steinberg</td>\n",
       "    </tr>\n",
       "  </tbody>\n",
       "</table>\n",
       "</div>"
      ],
      "text/plain": [
       "                    Sign Up Start Date/Time (mm/dd/yyyy)  Qty  \\\n",
       "0  Men (Week of April 16th)                   04/17/2021  1.0   \n",
       "1  Men (Week of April 16th)                   04/17/2021  1.0   \n",
       "2  Men (Week of April 16th)                   04/17/2021  1.0   \n",
       "3  Men (Week of April 16th)                   04/17/2021  1.0   \n",
       "4  Men (Week of April 16th)                   04/17/2021  1.0   \n",
       "\n",
       "                      Item First Name   Last Name  \\\n",
       "0  AM 9:00 Shacharit - ECC      Asher   Dworetsky   \n",
       "1  AM 9:00 Shacharit - ECC      David      Nenner   \n",
       "2  AM 9:00 Shacharit - ECC      Mitch      Marcus   \n",
       "3  AM 9:00 Shacharit - ECC       Cary  Schwechter   \n",
       "4  AM 9:00 Shacharit - ECC       Elie   Steinberg   \n",
       "\n",
       "   Number Sitting Together (besides yourself) Unnamed: 7     Display Name  \n",
       "0                                         2.0             Asher Dworetsky  \n",
       "1                                         1.0                David Nenner  \n",
       "2                                         0.0                Mitch Marcus  \n",
       "3                                         1.0             Cary Schwechter  \n",
       "4                                         0.0              Elie Steinberg  "
      ]
     },
     "execution_count": 79,
     "metadata": {},
     "output_type": "execute_result"
    }
   ],
   "source": [
    "df.head()"
   ]
  },
  {
   "cell_type": "code",
   "execution_count": 105,
   "id": "romantic-skirt",
   "metadata": {},
   "outputs": [],
   "source": [
    "df[\"Seats\"] = df['Number Sitting Together (besides yourself)'] + 1"
   ]
  },
  {
   "cell_type": "code",
   "execution_count": 205,
   "id": "bacterial-military",
   "metadata": {
    "scrolled": false
   },
   "outputs": [
    {
     "data": {
      "text/html": [
       "<div>\n",
       "<style scoped>\n",
       "    .dataframe tbody tr th:only-of-type {\n",
       "        vertical-align: middle;\n",
       "    }\n",
       "\n",
       "    .dataframe tbody tr th {\n",
       "        vertical-align: top;\n",
       "    }\n",
       "\n",
       "    .dataframe thead th {\n",
       "        text-align: right;\n",
       "    }\n",
       "</style>\n",
       "<table border=\"1\" class=\"dataframe\">\n",
       "  <thead>\n",
       "    <tr style=\"text-align: right;\">\n",
       "      <th></th>\n",
       "      <th>Sign Up</th>\n",
       "      <th>Start Date/Time (mm/dd/yyyy)</th>\n",
       "      <th>Qty</th>\n",
       "      <th>Item</th>\n",
       "      <th>First Name</th>\n",
       "      <th>Last Name</th>\n",
       "      <th>Number Sitting Together (besides yourself)</th>\n",
       "      <th>Unnamed: 7</th>\n",
       "      <th>Display Name</th>\n",
       "      <th>Seats</th>\n",
       "    </tr>\n",
       "  </thead>\n",
       "  <tbody>\n",
       "    <tr>\n",
       "      <th>0</th>\n",
       "      <td>Men (Week of April 16th)</td>\n",
       "      <td>04/16/2021</td>\n",
       "      <td>1.0</td>\n",
       "      <td>PM 7:00 Mincha/Kab. Shabbat - ECC</td>\n",
       "      <td>Joshua</td>\n",
       "      <td>Goldenberg</td>\n",
       "      <td>0.0</td>\n",
       "      <td></td>\n",
       "      <td>Joshua Goldenberg</td>\n",
       "      <td>1.0</td>\n",
       "    </tr>\n",
       "    <tr>\n",
       "      <th>1</th>\n",
       "      <td>Men (Week of April 16th)</td>\n",
       "      <td>04/16/2021</td>\n",
       "      <td>1.0</td>\n",
       "      <td>PM 7:00 Mincha/Kab. Shabbat - ECC</td>\n",
       "      <td>alan</td>\n",
       "      <td>wengrofsky</td>\n",
       "      <td>2.0</td>\n",
       "      <td></td>\n",
       "      <td>alan wengrofsky</td>\n",
       "      <td>3.0</td>\n",
       "    </tr>\n",
       "    <tr>\n",
       "      <th>2</th>\n",
       "      <td>Men (Week of April 16th)</td>\n",
       "      <td>04/16/2021</td>\n",
       "      <td>1.0</td>\n",
       "      <td>PM 7:00 Mincha/Kab. Shabbat - ECC</td>\n",
       "      <td>Michael</td>\n",
       "      <td>Turk</td>\n",
       "      <td>0.0</td>\n",
       "      <td></td>\n",
       "      <td>Michael Turk</td>\n",
       "      <td>1.0</td>\n",
       "    </tr>\n",
       "    <tr>\n",
       "      <th>3</th>\n",
       "      <td>Men (Week of April 16th)</td>\n",
       "      <td>04/16/2021</td>\n",
       "      <td>1.0</td>\n",
       "      <td>PM 7:00 Mincha/Kab. Shabbat - ECC</td>\n",
       "      <td>Mark</td>\n",
       "      <td>Feld</td>\n",
       "      <td>2.0</td>\n",
       "      <td></td>\n",
       "      <td>Mark Feld</td>\n",
       "      <td>3.0</td>\n",
       "    </tr>\n",
       "    <tr>\n",
       "      <th>4</th>\n",
       "      <td>Men (Week of April 16th)</td>\n",
       "      <td>04/16/2021</td>\n",
       "      <td>1.0</td>\n",
       "      <td>PM 7:00 Mincha/Kab. Shabbat - ECC</td>\n",
       "      <td>Cary</td>\n",
       "      <td>Schwechter</td>\n",
       "      <td>1.0</td>\n",
       "      <td></td>\n",
       "      <td>Cary Schwechter</td>\n",
       "      <td>2.0</td>\n",
       "    </tr>\n",
       "  </tbody>\n",
       "</table>\n",
       "</div>"
      ],
      "text/plain": [
       "                    Sign Up Start Date/Time (mm/dd/yyyy)  Qty  \\\n",
       "0  Men (Week of April 16th)                   04/16/2021  1.0   \n",
       "1  Men (Week of April 16th)                   04/16/2021  1.0   \n",
       "2  Men (Week of April 16th)                   04/16/2021  1.0   \n",
       "3  Men (Week of April 16th)                   04/16/2021  1.0   \n",
       "4  Men (Week of April 16th)                   04/16/2021  1.0   \n",
       "\n",
       "                                Item First Name   Last Name  \\\n",
       "0  PM 7:00 Mincha/Kab. Shabbat - ECC     Joshua  Goldenberg   \n",
       "1  PM 7:00 Mincha/Kab. Shabbat - ECC       alan  wengrofsky   \n",
       "2  PM 7:00 Mincha/Kab. Shabbat - ECC    Michael        Turk   \n",
       "3  PM 7:00 Mincha/Kab. Shabbat - ECC       Mark        Feld   \n",
       "4  PM 7:00 Mincha/Kab. Shabbat - ECC       Cary  Schwechter   \n",
       "\n",
       "   Number Sitting Together (besides yourself) Unnamed: 7       Display Name  \\\n",
       "0                                         0.0             Joshua Goldenberg   \n",
       "1                                         2.0               alan wengrofsky   \n",
       "2                                         0.0                  Michael Turk   \n",
       "3                                         2.0                     Mark Feld   \n",
       "4                                         1.0               Cary Schwechter   \n",
       "\n",
       "   Seats  \n",
       "0    1.0  \n",
       "1    3.0  \n",
       "2    1.0  \n",
       "3    3.0  \n",
       "4    2.0  "
      ]
     },
     "execution_count": 205,
     "metadata": {},
     "output_type": "execute_result"
    }
   ],
   "source": [
    "df.head()"
   ]
  },
  {
   "cell_type": "code",
   "execution_count": 216,
   "id": "external-motivation",
   "metadata": {},
   "outputs": [],
   "source": [
    "df = ps.sqldf(\"SELECT DISTINCT * FROM df\")"
   ]
  },
  {
   "cell_type": "code",
   "execution_count": 206,
   "id": "metric-confirmation",
   "metadata": {},
   "outputs": [],
   "source": [
    "fridayNight = ps.sqldf(\"SELECT DISTINCT df.'Display Name' FROM  df WHERE df.Item LIKE '%Kab%' AND df.'Sign Up' LIKE '%Men%' ORDER BY UPPER(df.'Last Name') ASC\")"
   ]
  },
  {
   "cell_type": "code",
   "execution_count": 207,
   "id": "regional-thomas",
   "metadata": {},
   "outputs": [],
   "source": [
    "saturdayMen = ps.sqldf(\"SELECT DISTINCT df.'Display Name' FROM  df WHERE df.Item LIKE '%Shacharit%' AND df.'Sign Up' NOT LIKE '%Women%' ORDER BY UPPER(df.'Last Name') ASC\")"
   ]
  },
  {
   "cell_type": "code",
   "execution_count": 201,
   "id": "vocal-founder",
   "metadata": {},
   "outputs": [],
   "source": [
    "saturdayWomen = ps.sqldf(\"SELECT DISTINCT df.'Display Name' FROM  df WHERE df.Item LIKE '%Shacharit%' AND df.'Sign Up' LIKE '%Women%' ORDER BY UPPER(df.'Last Name') ASC\")"
   ]
  },
  {
   "cell_type": "code",
   "execution_count": 208,
   "id": "loose-bacteria",
   "metadata": {},
   "outputs": [],
   "source": [
    "MenCounts = ps.sqldf(\"SELECT df.Seats, count(*) AS cnt FROM df WHERE df.Item LIKE '%Shacharit%' AND df.'Sign Up' NOT LIKE '%Women%' GROUP BY df.Seats\")"
   ]
  },
  {
   "cell_type": "code",
   "execution_count": 209,
   "id": "exceptional-continent",
   "metadata": {
    "scrolled": false
   },
   "outputs": [
    {
     "name": "stdout",
     "output_type": "stream",
     "text": [
      "   Seats  cnt\n",
      "0    1.0   28\n",
      "1    2.0    8\n",
      "2    3.0    8\n",
      "3    4.0    2\n",
      "4    5.0    2\n"
     ]
    }
   ],
   "source": [
    "print(MenCounts)"
   ]
  },
  {
   "cell_type": "code",
   "execution_count": 149,
   "id": "warming-insider",
   "metadata": {},
   "outputs": [],
   "source": [
    "BigMen = ps.sqldf(\"SELECT DISTINCT df.'Display Name', df.Seats FROM df WHERE df.Seats >= 4 AND df.'Sign Up' NOT LIKE 'Women'\")"
   ]
  },
  {
   "cell_type": "code",
   "execution_count": 150,
   "id": "attractive-praise",
   "metadata": {
    "scrolled": true
   },
   "outputs": [
    {
     "name": "stdout",
     "output_type": "stream",
     "text": [
      "      Display Name  Seats\n",
      "0         Avi From    4.0\n",
      "1       Neil Cohen    5.0\n",
      "2  Shalom Ganchrow    4.0\n",
      "3        Ron Razla    5.0\n"
     ]
    }
   ],
   "source": [
    "print(BigMen)"
   ]
  },
  {
   "cell_type": "code",
   "execution_count": 157,
   "id": "involved-carnival",
   "metadata": {},
   "outputs": [],
   "source": [
    "WomenCounts = ps.sqldf(\"SELECT df.Seats, count(*) as cnt FROM df WHERE df.Item LIKE '%Shacharit%' AND df.'Sign Up' LIKE '%Women%' GROUP BY df.Seats\")"
   ]
  },
  {
   "cell_type": "code",
   "execution_count": 160,
   "id": "assured-poetry",
   "metadata": {},
   "outputs": [
    {
     "name": "stdout",
     "output_type": "stream",
     "text": [
      "   Seats  cnt\n",
      "0    1.0    7\n",
      "1    2.0    7\n",
      "2    3.0    3\n"
     ]
    }
   ],
   "source": [
    "print(WomenCounts)"
   ]
  },
  {
   "cell_type": "code",
   "execution_count": 152,
   "id": "excited-alliance",
   "metadata": {},
   "outputs": [],
   "source": [
    "BigWomen = ps.sqldf(\"SELECT DISTINCT df.'Display Name', df.Seats FROM df WHERE df.Seats >= 4 AND df.'Sign Up' LIKE 'Women'\")"
   ]
  },
  {
   "cell_type": "code",
   "execution_count": 154,
   "id": "cloudy-dance",
   "metadata": {},
   "outputs": [
    {
     "data": {
      "text/html": [
       "<div>\n",
       "<style scoped>\n",
       "    .dataframe tbody tr th:only-of-type {\n",
       "        vertical-align: middle;\n",
       "    }\n",
       "\n",
       "    .dataframe tbody tr th {\n",
       "        vertical-align: top;\n",
       "    }\n",
       "\n",
       "    .dataframe thead th {\n",
       "        text-align: right;\n",
       "    }\n",
       "</style>\n",
       "<table border=\"1\" class=\"dataframe\">\n",
       "  <thead>\n",
       "    <tr style=\"text-align: right;\">\n",
       "      <th></th>\n",
       "      <th>Seats</th>\n",
       "      <th>count(*)</th>\n",
       "    </tr>\n",
       "  </thead>\n",
       "  <tbody>\n",
       "    <tr>\n",
       "      <th>0</th>\n",
       "      <td>1.0</td>\n",
       "      <td>7</td>\n",
       "    </tr>\n",
       "    <tr>\n",
       "      <th>1</th>\n",
       "      <td>2.0</td>\n",
       "      <td>7</td>\n",
       "    </tr>\n",
       "    <tr>\n",
       "      <th>2</th>\n",
       "      <td>3.0</td>\n",
       "      <td>3</td>\n",
       "    </tr>\n",
       "  </tbody>\n",
       "</table>\n",
       "</div>"
      ],
      "text/plain": [
       "   Seats  count(*)\n",
       "0    1.0         7\n",
       "1    2.0         7\n",
       "2    3.0         3"
      ]
     },
     "execution_count": 154,
     "metadata": {},
     "output_type": "execute_result"
    }
   ],
   "source": [
    "WomenCounts"
   ]
  },
  {
   "cell_type": "code",
   "execution_count": 165,
   "id": "statistical-village",
   "metadata": {},
   "outputs": [],
   "source": [
    "totalPods = ps.sqldf(\"SELECT 'Women' as 'Gender', SUM(wc.cnt) as 'Count' FROM WomenCounts AS wc UNION SELECT 'Men', SUM(mc.cnt) FROM MenCounts AS mc\")"
   ]
  },
  {
   "cell_type": "code",
   "execution_count": 166,
   "id": "popular-turning",
   "metadata": {},
   "outputs": [
    {
     "name": "stdout",
     "output_type": "stream",
     "text": [
      "  Gender  Count\n",
      "0    Men     48\n",
      "1  Women     17\n"
     ]
    }
   ],
   "source": [
    "print(totalPods)"
   ]
  },
  {
   "cell_type": "code",
   "execution_count": null,
   "id": "adjustable-personality",
   "metadata": {},
   "outputs": [],
   "source": [
    "np.savetxt(r'C:\\Users\\sethj\\Desktop\\friNight.txt', fridayNight, fmt='%s', header='Friday Night Sign Up')"
   ]
  },
  {
   "cell_type": "code",
   "execution_count": 180,
   "id": "earlier-immigration",
   "metadata": {},
   "outputs": [],
   "source": [
    "writer = pd.ExcelWriter(r\"C:\\Users\\sethj\\Desktop\\signups1.xlsx\", engine='xlsxwriter')\n",
    "\n",
    "fridayNight.to_excel(writer, sheet_name='Friday Night')\n",
    "saturdayMen.to_excel(writer, sheet_name='Saturday Men')\n",
    "saturdayWomen.to_excel(writer, sheet_name='Saturday Women')\n",
    "BigMen.to_excel(writer, sheet_name='Men Large Family Seating')\n",
    "BigWomen.to_excel(writer, sheet_name='Women Large Family Seating')\n",
    "totalPods.to_excel(writer, sheet_name='Pod Totals')\n",
    "writer.close()"
   ]
  }
 ],
 "metadata": {
  "kernelspec": {
   "display_name": "Python 3",
   "language": "python",
   "name": "python3"
  },
  "language_info": {
   "codemirror_mode": {
    "name": "ipython",
    "version": 3
   },
   "file_extension": ".py",
   "mimetype": "text/x-python",
   "name": "python",
   "nbconvert_exporter": "python",
   "pygments_lexer": "ipython3",
   "version": "3.8.5"
  }
 },
 "nbformat": 4,
 "nbformat_minor": 5
}
